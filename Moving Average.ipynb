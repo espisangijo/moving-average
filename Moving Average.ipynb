{
 "cells": [
  {
   "cell_type": "code",
   "execution_count": 3,
   "metadata": {},
   "outputs": [],
   "source": [
    "import numpy as np\n",
    "import pandas as pd"
   ]
  },
  {
   "cell_type": "code",
   "execution_count": 189,
   "metadata": {},
   "outputs": [],
   "source": [
    "def average(numlist):\n",
    "    return sum(numlist)/float(len(numlist))"
   ]
  },
  {
   "cell_type": "code",
   "execution_count": 195,
   "metadata": {},
   "outputs": [],
   "source": [
    "def EMA(df,period):\n",
    "    df1 = pd.DataFrame()\n",
    "    ema_list = []\n",
    "    timeseries_list = []\n",
    "    \n",
    "    x = np.array(df[['close']])\n",
    "    # initial value\n",
    "    initial = SMA(df,period).head(1)\n",
    "    first_value=initial.iloc[0,0]\n",
    "    ema_list.append(first_value)\n",
    "    timeseries_list.append(initial.index)\n",
    "    timeseries = df.index\n",
    "    # multiplier\n",
    "    multiplier = 2/(period+1) \n",
    "    # EMA\n",
    "    try:\n",
    "        prev = first_value\n",
    "        for i in range(1,len(x)-period+1):\n",
    "            ema = (x[i+period-1] - prev) * multiplier + prev\n",
    "            ema_list.append(ema.flatten())\n",
    "            try:\n",
    "                timeseries_list.append(timeseries[i+period-1])\n",
    "            except:\n",
    "                continue\n",
    "            prev = ema\n",
    "        df1['date'] = timeseries_list\n",
    "        df1['ema'] = ema_list\n",
    "        df1 = df1.set_index('date')\n",
    "        return df1\n",
    "    except:\n",
    "        print('error')"
   ]
  },
  {
   "cell_type": "code",
   "execution_count": 190,
   "metadata": {},
   "outputs": [],
   "source": [
    "def SMA(df,period):\n",
    "    df1 = pd.DataFrame()\n",
    "    sma_list = []\n",
    "    timeseries_list = []\n",
    "    try:\n",
    "        timeseries = df.index\n",
    "        x = np.array(df[['close']])\n",
    "        for i in range(len(x)-period+1):\n",
    "            sma_list.append(average(x[i:i+period].flatten()))\n",
    "            try:\n",
    "                timeseries_list.append(timeseries[i+period-1])\n",
    "            except:\n",
    "                continue\n",
    "        df1['date'] = timeseries_list\n",
    "        df1['sma'] = sma_list\n",
    "        df1 = df1.set_index('date')\n",
    "        return df1\n",
    "    except:\n",
    "        print('error')"
   ]
  },
  {
   "cell_type": "markdown",
   "metadata": {},
   "source": [
    "# Test Data"
   ]
  },
  {
   "cell_type": "code",
   "execution_count": 191,
   "metadata": {},
   "outputs": [],
   "source": [
    "apple_datelist = pd.date_range(start='10-03-2018',end='12-25-2018', freq='D')\n",
    "apple_df = pd.read_csv('./Texts/Nasdaq/HistoricalQuotes.csv', header=0, index_col=0)\n",
    "apple_df = apple_df.iloc[1:,:]\n",
    "apple_df.index = pd.to_datetime(apple_df.index, format='%Y-%m-%d')\n",
    "apple_df = apple_df.iloc[::-1]\n",
    "apple_df = apple_df.reindex(apple_datelist).interpolate(how=\"linear\")\n",
    "apple_df = apple_df.loc['2018-10-08':'2018-12-24']"
   ]
  },
  {
   "cell_type": "code",
   "execution_count": 193,
   "metadata": {},
   "outputs": [],
   "source": [
    "sma = SMA(apple_df, 4)"
   ]
  },
  {
   "cell_type": "code",
   "execution_count": 196,
   "metadata": {},
   "outputs": [],
   "source": [
    "ema = EMA(apple_df,5)"
   ]
  }
 ],
 "metadata": {
  "kernelspec": {
   "display_name": "Python 3",
   "language": "python",
   "name": "python3"
  },
  "language_info": {
   "codemirror_mode": {
    "name": "ipython",
    "version": 3
   },
   "file_extension": ".py",
   "mimetype": "text/x-python",
   "name": "python",
   "nbconvert_exporter": "python",
   "pygments_lexer": "ipython3",
   "version": "3.6.4"
  }
 },
 "nbformat": 4,
 "nbformat_minor": 2
}
